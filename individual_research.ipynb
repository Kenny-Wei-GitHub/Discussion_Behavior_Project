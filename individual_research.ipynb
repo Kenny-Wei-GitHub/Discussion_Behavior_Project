{
 "cells": [
  {
   "cell_type": "markdown",
   "metadata": {},
   "source": [
    "# Intsall Package"
   ]
  },
  {
   "cell_type": "code",
   "execution_count": 5,
   "metadata": {},
   "outputs": [
    {
     "name": "stdout",
     "output_type": "stream",
     "text": [
      "Requirement already satisfied: awswrangler in /opt/conda/lib/python3.7/site-packages (2.16.1)\n",
      "Requirement already satisfied: gremlinpython<4.0.0,>=3.5.2 in /opt/conda/lib/python3.7/site-packages (from awswrangler) (3.6.1)\n",
      "Requirement already satisfied: pymysql<2.0.0,>=1.0.0 in /opt/conda/lib/python3.7/site-packages (from awswrangler) (1.0.2)\n",
      "Requirement already satisfied: botocore<2.0.0,>=1.23.17 in /opt/conda/lib/python3.7/site-packages (from awswrangler) (1.27.27)\n",
      "Requirement already satisfied: jsonpath-ng<2.0.0,>=1.5.3 in /opt/conda/lib/python3.7/site-packages (from awswrangler) (1.5.3)\n",
      "Requirement already satisfied: pg8000<2.0.0,>=1.20.0 in /opt/conda/lib/python3.7/site-packages (from awswrangler) (1.29.1)\n",
      "Requirement already satisfied: openpyxl<3.1.0,>=3.0.0 in /opt/conda/lib/python3.7/site-packages (from awswrangler) (3.0.3)\n",
      "Requirement already satisfied: progressbar2<5.0.0,>=4.0.0 in /opt/conda/lib/python3.7/site-packages (from awswrangler) (4.0.0)\n",
      "Requirement already satisfied: requests-aws4auth<2.0.0,>=1.1.1 in /opt/conda/lib/python3.7/site-packages (from awswrangler) (1.1.2)\n",
      "Requirement already satisfied: boto3<2.0.0,>=1.20.17 in /opt/conda/lib/python3.7/site-packages (from awswrangler) (1.24.27)\n",
      "Requirement already satisfied: numpy<2.0.0,>=1.21.0 in /opt/conda/lib/python3.7/site-packages (from awswrangler) (1.21.6)\n",
      "Requirement already satisfied: opensearch-py<2.0.0,>=1.0.0 in /opt/conda/lib/python3.7/site-packages (from awswrangler) (1.1.0)\n",
      "Requirement already satisfied: redshift-connector<2.1.0,>=2.0.889 in /opt/conda/lib/python3.7/site-packages (from awswrangler) (2.0.908)\n",
      "Requirement already satisfied: backoff<3.0.0,>=1.11.1 in /opt/conda/lib/python3.7/site-packages (from awswrangler) (2.1.2)\n",
      "Requirement already satisfied: pyarrow<7.1.0,>=2.0.0 in /opt/conda/lib/python3.7/site-packages (from awswrangler) (7.0.0)\n",
      "Requirement already satisfied: pandas<2.0.0,>=1.2.0 in /opt/conda/lib/python3.7/site-packages (from awswrangler) (1.3.5)\n",
      "Requirement already satisfied: s3transfer<0.7.0,>=0.6.0 in /opt/conda/lib/python3.7/site-packages (from boto3<2.0.0,>=1.20.17->awswrangler) (0.6.0)\n",
      "Requirement already satisfied: jmespath<2.0.0,>=0.7.1 in /opt/conda/lib/python3.7/site-packages (from boto3<2.0.0,>=1.20.17->awswrangler) (1.0.1)\n",
      "Requirement already satisfied: urllib3<1.27,>=1.25.4 in /opt/conda/lib/python3.7/site-packages (from botocore<2.0.0,>=1.23.17->awswrangler) (1.26.10)\n",
      "Requirement already satisfied: python-dateutil<3.0.0,>=2.1 in /opt/conda/lib/python3.7/site-packages (from botocore<2.0.0,>=1.23.17->awswrangler) (2.8.1)\n",
      "Requirement already satisfied: isodate<1.0.0,>=0.6.0 in /opt/conda/lib/python3.7/site-packages (from gremlinpython<4.0.0,>=3.5.2->awswrangler) (0.6.1)\n",
      "Requirement already satisfied: aenum<4.0.0,>=1.4.5 in /opt/conda/lib/python3.7/site-packages (from gremlinpython<4.0.0,>=3.5.2->awswrangler) (3.1.11)\n",
      "Requirement already satisfied: aiohttp<=3.8.1,>=3.8.0 in /opt/conda/lib/python3.7/site-packages (from gremlinpython<4.0.0,>=3.5.2->awswrangler) (3.8.1)\n",
      "Requirement already satisfied: nest-asyncio in /opt/conda/lib/python3.7/site-packages (from gremlinpython<4.0.0,>=3.5.2->awswrangler) (1.5.5)\n",
      "Requirement already satisfied: six in /opt/conda/lib/python3.7/site-packages (from jsonpath-ng<2.0.0,>=1.5.3->awswrangler) (1.14.0)\n",
      "Requirement already satisfied: decorator in /opt/conda/lib/python3.7/site-packages (from jsonpath-ng<2.0.0,>=1.5.3->awswrangler) (4.4.1)\n",
      "Requirement already satisfied: ply in /opt/conda/lib/python3.7/site-packages (from jsonpath-ng<2.0.0,>=1.5.3->awswrangler) (3.11)\n",
      "Requirement already satisfied: et-xmlfile in /opt/conda/lib/python3.7/site-packages (from openpyxl<3.1.0,>=3.0.0->awswrangler) (1.0.1)\n",
      "Requirement already satisfied: jdcal in /opt/conda/lib/python3.7/site-packages (from openpyxl<3.1.0,>=3.0.0->awswrangler) (1.4.1)\n",
      "Requirement already satisfied: certifi in /opt/conda/lib/python3.7/site-packages (from opensearch-py<2.0.0,>=1.0.0->awswrangler) (2022.6.15)\n",
      "Requirement already satisfied: pytz>=2017.3 in /opt/conda/lib/python3.7/site-packages (from pandas<2.0.0,>=1.2.0->awswrangler) (2022.1)\n",
      "Requirement already satisfied: importlib-metadata>=1.0 in /opt/conda/lib/python3.7/site-packages (from pg8000<2.0.0,>=1.20.0->awswrangler) (1.5.0)\n",
      "Requirement already satisfied: scramp>=1.4.1 in /opt/conda/lib/python3.7/site-packages (from pg8000<2.0.0,>=1.20.0->awswrangler) (1.4.1)\n",
      "Requirement already satisfied: python-utils>=3.0.0 in /opt/conda/lib/python3.7/site-packages (from progressbar2<5.0.0,>=4.0.0->awswrangler) (3.3.3)\n",
      "Requirement already satisfied: requests<2.28.1,>=2.23.0 in /opt/conda/lib/python3.7/site-packages (from redshift-connector<2.1.0,>=2.0.889->awswrangler) (2.28.0)\n",
      "Requirement already satisfied: beautifulsoup4<5.0.0,>=4.7.0 in /opt/conda/lib/python3.7/site-packages (from redshift-connector<2.1.0,>=2.0.889->awswrangler) (4.8.2)\n",
      "Requirement already satisfied: lxml>=4.6.5 in /opt/conda/lib/python3.7/site-packages (from redshift-connector<2.1.0,>=2.0.889->awswrangler) (4.9.1)\n",
      "Requirement already satisfied: packaging in /opt/conda/lib/python3.7/site-packages (from redshift-connector<2.1.0,>=2.0.889->awswrangler) (20.1)\n",
      "Requirement already satisfied: multidict<7.0,>=4.5 in /opt/conda/lib/python3.7/site-packages (from aiohttp<=3.8.1,>=3.8.0->gremlinpython<4.0.0,>=3.5.2->awswrangler) (6.0.2)\n",
      "Requirement already satisfied: charset-normalizer<3.0,>=2.0 in /opt/conda/lib/python3.7/site-packages (from aiohttp<=3.8.1,>=3.8.0->gremlinpython<4.0.0,>=3.5.2->awswrangler) (2.0.4)\n",
      "Requirement already satisfied: asynctest==0.13.0 in /opt/conda/lib/python3.7/site-packages (from aiohttp<=3.8.1,>=3.8.0->gremlinpython<4.0.0,>=3.5.2->awswrangler) (0.13.0)\n",
      "Requirement already satisfied: aiosignal>=1.1.2 in /opt/conda/lib/python3.7/site-packages (from aiohttp<=3.8.1,>=3.8.0->gremlinpython<4.0.0,>=3.5.2->awswrangler) (1.2.0)\n",
      "Requirement already satisfied: attrs>=17.3.0 in /opt/conda/lib/python3.7/site-packages (from aiohttp<=3.8.1,>=3.8.0->gremlinpython<4.0.0,>=3.5.2->awswrangler) (21.4.0)\n",
      "Requirement already satisfied: frozenlist>=1.1.1 in /opt/conda/lib/python3.7/site-packages (from aiohttp<=3.8.1,>=3.8.0->gremlinpython<4.0.0,>=3.5.2->awswrangler) (1.3.0)\n",
      "Requirement already satisfied: async-timeout<5.0,>=4.0.0a3 in /opt/conda/lib/python3.7/site-packages (from aiohttp<=3.8.1,>=3.8.0->gremlinpython<4.0.0,>=3.5.2->awswrangler) (4.0.2)\n",
      "Requirement already satisfied: yarl<2.0,>=1.0 in /opt/conda/lib/python3.7/site-packages (from aiohttp<=3.8.1,>=3.8.0->gremlinpython<4.0.0,>=3.5.2->awswrangler) (1.7.2)\n",
      "Requirement already satisfied: typing-extensions>=3.7.4 in /opt/conda/lib/python3.7/site-packages (from aiohttp<=3.8.1,>=3.8.0->gremlinpython<4.0.0,>=3.5.2->awswrangler) (4.3.0)\n",
      "Requirement already satisfied: soupsieve>=1.2 in /opt/conda/lib/python3.7/site-packages (from beautifulsoup4<5.0.0,>=4.7.0->redshift-connector<2.1.0,>=2.0.889->awswrangler) (1.9.5)\n",
      "Requirement already satisfied: zipp>=0.5 in /opt/conda/lib/python3.7/site-packages (from importlib-metadata>=1.0->pg8000<2.0.0,>=1.20.0->awswrangler) (2.2.0)\n",
      "Requirement already satisfied: idna<4,>=2.5 in /opt/conda/lib/python3.7/site-packages (from requests<2.28.1,>=2.23.0->redshift-connector<2.1.0,>=2.0.889->awswrangler) (2.8)\n",
      "Requirement already satisfied: asn1crypto>=1.4.0 in /opt/conda/lib/python3.7/site-packages (from scramp>=1.4.1->pg8000<2.0.0,>=1.20.0->awswrangler) (1.5.1)\n",
      "Requirement already satisfied: pyparsing>=2.0.2 in /opt/conda/lib/python3.7/site-packages (from packaging->redshift-connector<2.1.0,>=2.0.889->awswrangler) (2.4.6)\n",
      "\u001b[33mWARNING: Running pip as the 'root' user can result in broken permissions and conflicting behaviour with the system package manager. It is recommended to use a virtual environment instead: https://pip.pypa.io/warnings/venv\u001b[0m\u001b[33m\n",
      "\u001b[0m\n",
      "\u001b[1m[\u001b[0m\u001b[34;49mnotice\u001b[0m\u001b[1;39;49m]\u001b[0m\u001b[39;49m A new release of pip available: \u001b[0m\u001b[31;49m22.1.2\u001b[0m\u001b[39;49m -> \u001b[0m\u001b[32;49m22.2\u001b[0m\n",
      "\u001b[1m[\u001b[0m\u001b[34;49mnotice\u001b[0m\u001b[1;39;49m]\u001b[0m\u001b[39;49m To update, run: \u001b[0m\u001b[32;49mpip install --upgrade pip\u001b[0m\n",
      "Requirement already satisfied: pandasql in /opt/conda/lib/python3.7/site-packages (0.7.3)\n",
      "Requirement already satisfied: pandas in /opt/conda/lib/python3.7/site-packages (from pandasql) (1.3.5)\n",
      "Requirement already satisfied: numpy in /opt/conda/lib/python3.7/site-packages (from pandasql) (1.21.6)\n",
      "Requirement already satisfied: sqlalchemy in /opt/conda/lib/python3.7/site-packages (from pandasql) (1.3.13)\n",
      "Requirement already satisfied: pytz>=2017.3 in /opt/conda/lib/python3.7/site-packages (from pandas->pandasql) (2022.1)\n",
      "Requirement already satisfied: python-dateutil>=2.7.3 in /opt/conda/lib/python3.7/site-packages (from pandas->pandasql) (2.8.1)\n",
      "Requirement already satisfied: six>=1.5 in /opt/conda/lib/python3.7/site-packages (from python-dateutil>=2.7.3->pandas->pandasql) (1.14.0)\n",
      "\u001b[33mWARNING: Running pip as the 'root' user can result in broken permissions and conflicting behaviour with the system package manager. It is recommended to use a virtual environment instead: https://pip.pypa.io/warnings/venv\u001b[0m\u001b[33m\n",
      "\u001b[0m\n",
      "\u001b[1m[\u001b[0m\u001b[34;49mnotice\u001b[0m\u001b[1;39;49m]\u001b[0m\u001b[39;49m A new release of pip available: \u001b[0m\u001b[31;49m22.1.2\u001b[0m\u001b[39;49m -> \u001b[0m\u001b[32;49m22.2\u001b[0m\n",
      "\u001b[1m[\u001b[0m\u001b[34;49mnotice\u001b[0m\u001b[1;39;49m]\u001b[0m\u001b[39;49m To update, run: \u001b[0m\u001b[32;49mpip install --upgrade pip\u001b[0m\n",
      "Requirement already satisfied: nltk in /opt/conda/lib/python3.7/site-packages (3.7)\n",
      "Requirement already satisfied: joblib in /opt/conda/lib/python3.7/site-packages (from nltk) (0.14.1)\n",
      "Requirement already satisfied: tqdm in /opt/conda/lib/python3.7/site-packages (from nltk) (4.42.1)\n",
      "Requirement already satisfied: regex>=2021.8.3 in /opt/conda/lib/python3.7/site-packages (from nltk) (2022.7.9)\n",
      "Requirement already satisfied: click in /opt/conda/lib/python3.7/site-packages (from nltk) (7.0)\n",
      "\u001b[33mWARNING: Running pip as the 'root' user can result in broken permissions and conflicting behaviour with the system package manager. It is recommended to use a virtual environment instead: https://pip.pypa.io/warnings/venv\u001b[0m\u001b[33m\n",
      "\u001b[0m\n",
      "\u001b[1m[\u001b[0m\u001b[34;49mnotice\u001b[0m\u001b[1;39;49m]\u001b[0m\u001b[39;49m A new release of pip available: \u001b[0m\u001b[31;49m22.1.2\u001b[0m\u001b[39;49m -> \u001b[0m\u001b[32;49m22.2\u001b[0m\n",
      "\u001b[1m[\u001b[0m\u001b[34;49mnotice\u001b[0m\u001b[1;39;49m]\u001b[0m\u001b[39;49m To update, run: \u001b[0m\u001b[32;49mpip install --upgrade pip\u001b[0m\n",
      "Collecting stop-words\n",
      "  Using cached stop_words-2018.7.23-py3-none-any.whl\n",
      "Installing collected packages: stop-words\n",
      "Successfully installed stop-words-2018.7.23\n",
      "\u001b[33mWARNING: Running pip as the 'root' user can result in broken permissions and conflicting behaviour with the system package manager. It is recommended to use a virtual environment instead: https://pip.pypa.io/warnings/venv\u001b[0m\u001b[33m\n",
      "\u001b[0m\n",
      "\u001b[1m[\u001b[0m\u001b[34;49mnotice\u001b[0m\u001b[1;39;49m]\u001b[0m\u001b[39;49m A new release of pip available: \u001b[0m\u001b[31;49m22.1.2\u001b[0m\u001b[39;49m -> \u001b[0m\u001b[32;49m22.2\u001b[0m\n",
      "\u001b[1m[\u001b[0m\u001b[34;49mnotice\u001b[0m\u001b[1;39;49m]\u001b[0m\u001b[39;49m To update, run: \u001b[0m\u001b[32;49mpip install --upgrade pip\u001b[0m\n",
      "Collecting gensim\n",
      "  Using cached gensim-4.2.0-cp37-cp37m-manylinux_2_12_x86_64.manylinux2010_x86_64.whl (24.1 MB)\n",
      "Requirement already satisfied: numpy>=1.17.0 in /opt/conda/lib/python3.7/site-packages (from gensim) (1.21.6)\n",
      "Requirement already satisfied: scipy>=0.18.1 in /opt/conda/lib/python3.7/site-packages (from gensim) (1.4.1)\n",
      "Collecting smart-open>=1.8.1\n",
      "  Using cached smart_open-6.0.0-py3-none-any.whl (58 kB)\n",
      "Installing collected packages: smart-open, gensim\n",
      "Successfully installed gensim-4.2.0 smart-open-6.0.0\n",
      "\u001b[33mWARNING: Running pip as the 'root' user can result in broken permissions and conflicting behaviour with the system package manager. It is recommended to use a virtual environment instead: https://pip.pypa.io/warnings/venv\u001b[0m\u001b[33m\n",
      "\u001b[0m\n",
      "\u001b[1m[\u001b[0m\u001b[34;49mnotice\u001b[0m\u001b[1;39;49m]\u001b[0m\u001b[39;49m A new release of pip available: \u001b[0m\u001b[31;49m22.1.2\u001b[0m\u001b[39;49m -> \u001b[0m\u001b[32;49m22.2\u001b[0m\n",
      "\u001b[1m[\u001b[0m\u001b[34;49mnotice\u001b[0m\u001b[1;39;49m]\u001b[0m\u001b[39;49m To update, run: \u001b[0m\u001b[32;49mpip install --upgrade pip\u001b[0m\n"
     ]
    }
   ],
   "source": [
    "# Install relevant packages, if not yet\n",
    "!pip3 install awswrangler\n",
    "!pip3 install pandasql\n",
    "!pip3 install -U nltk\n",
    "!pip3 install stop-words\n",
    "!pip3 install gensim"
   ]
  },
  {
   "cell_type": "code",
   "execution_count": 6,
   "metadata": {},
   "outputs": [],
   "source": [
    "from data_connector import *\n",
    "import numpy as np\n",
    "import pandas as pd"
   ]
  },
  {
   "cell_type": "markdown",
   "metadata": {},
   "source": [
    "# Import Packages and Connect to RedShift"
   ]
  },
  {
   "cell_type": "code",
   "execution_count": 2,
   "metadata": {},
   "outputs": [],
   "source": [
    "# Fill in the relevant credentials for Redshift cluster(s) and S3 bucket(s) to use\n",
    "role_arn = 'arn:aws:iam::848271137894:role/RedShiftAccessFromSageMakerAccount'\n",
    "role_session_name = 'AssumeRoleSession1'\n",
    "secret_name = 'arn:aws:secretsmanager:us-west-2:848271137894:secret:Redshift-DLL-Sagemaker-Secret-nHWV37'\n",
    "dbname = 'ucicanvas'\n",
    "region_name = 'us-west-2'\n",
    "bucket_name = 'uci-dll-mellon-redshift-unload-us-west-2'\n",
    "unload_iam_role = 'arn:aws:iam::848271137894:role/uci-write-to-dll-mellon-redshift-unload-s3-bucket-role,arn:aws:iam::686457044982:role/uci-oit-dwh-redshift-to-mellon-s3-unload-role'"
   ]
  },
  {
   "cell_type": "code",
   "execution_count": 3,
   "metadata": {},
   "outputs": [],
   "source": [
    "# Initiate a connector object\n",
    "redshift_s3_connect = RedshiftS3Connector(role_arn, role_session_name, secret_name, dbname, bucket_name, region_name, unload_iam_role)"
   ]
  },
  {
   "cell_type": "markdown",
   "metadata": {},
   "source": [
    "# 1. Get the mellon_layer2.discussion_post table from Fall 2020 to Spring 2022"
   ]
  },
  {
   "cell_type": "code",
   "execution_count": 6,
   "metadata": {},
   "outputs": [
    {
     "name": "stdout",
     "output_type": "stream",
     "text": [
      "Done waiting to finish Data API.\n",
      "Status: FINISHED. Excution time: 358 miliseconds\n",
      "{'ClusterIdentifier': 'uci-datalake-canvas-cluster-v1-redshiftcluster-a9h29wndif8j', 'CreatedAt': datetime.datetime(2022, 7, 27, 23, 30, 13, 506000, tzinfo=tzlocal()), 'Duration': 358856185, 'HasResultSet': True, 'Id': '61c59936-7ae7-45f3-87ba-3e808eebe345', 'QueryString': 'SELECT * FROM mellon_layer2.student LIMIT 1000;', 'RedshiftPid': 1078545018, 'RedshiftQueryId': 4775086, 'ResultRows': 1000, 'ResultSize': 422970, 'SecretArn': 'arn:aws:secretsmanager:us-west-2:848271137894:secret:Redshift-DLL-Sagemaker-Secret-nHWV37', 'Status': 'FINISHED', 'UpdatedAt': datetime.datetime(2022, 7, 27, 23, 30, 14, 397000, tzinfo=tzlocal()), 'ResponseMetadata': {'RequestId': 'e56278e9-11ac-4390-90af-b1e13cad3489', 'HTTPStatusCode': 200, 'HTTPHeaders': {'x-amzn-requestid': 'e56278e9-11ac-4390-90af-b1e13cad3489', 'content-type': 'application/x-amz-json-1.1', 'content-length': '503', 'date': 'Wed, 27 Jul 2022 23:30:33 GMT'}, 'RetryAttempts': 0}}\n",
      "# Result Rows: 1000\n"
     ]
    }
   ],
   "source": [
    "query = f'''SELECT * FROM mellon_layer2.student LIMIT 1000;'''\n",
    "df = redshift_s3_connect.run_sql_command(query)"
   ]
  },
  {
   "cell_type": "code",
   "execution_count": 10,
   "metadata": {},
   "outputs": [
    {
     "data": {
      "text/plain": [
       "array(['Other CA', 'Non-OC Southern CA', 'Orange County',\n",
       "       'Foreign Student', 'Out of State US'], dtype=object)"
      ]
     },
     "execution_count": 10,
     "metadata": {},
     "output_type": "execute_result"
    }
   ],
   "source": [
    "df['geo_category'].unique()"
   ]
  },
  {
   "cell_type": "code",
   "execution_count": 21,
   "metadata": {},
   "outputs": [
    {
     "data": {
      "text/plain": [
       "array(['Other CA', 'Non-OC Southern CA', 'Orange County',\n",
       "       'Foreign Student', 'Out of State US'], dtype=object)"
      ]
     },
     "execution_count": 21,
     "metadata": {},
     "output_type": "execute_result"
    }
   ],
   "source": [
    "df['geo_category'].unique()"
   ]
  },
  {
   "cell_type": "code",
   "execution_count": 11,
   "metadata": {},
   "outputs": [
    {
     "name": "stdout",
     "output_type": "stream",
     "text": [
      "\n",
      "WITH roster AS\n",
      "         (SELECT DISTINCT mellon_id,\n",
      "                          sis_term_code,\n",
      "                          instruc_begins::DATE,\n",
      "                          (instruc_ends::DATE + 9) AS final_ends,\n",
      "                          canvas_course_id,\n",
      "                          sis_course_code,\n",
      "                          canvas_course_section_id,\n",
      "                          sis_course_section_code\n",
      "          FROM mellon_layer2.enrollment er\n",
      "                   LEFT JOIN mellon_layer2.term_dates td ON er.sis_term_code = td.term_desc\n",
      "          WHERE is_valid_user\n",
      "            AND is_valid_course_section\n",
      "            AND enrollment_type = \\'StudentEnrollment\\')\n",
      "SELECT dp.*, rs.sis_term_code AS term, st.citizenship_app AS citizenship, st.geo_category\n",
      "FROM mellon_layer2.v_discussion_post AS dp \n",
      "INNER JOIN \n",
      "(SELECT DISTINCT mellon_id, canvas_course_id, instruc_begins, final_ends, sis_term_code FROM roster) AS rs\n",
      "                              ON dp.canvas_course_id = rs.canvas_course_id AND dp.mellon_id = rs.mellon_id\n",
      "LEFT JOIN mellon_layer2.student st \n",
      "                              ON dp.mellon_id = st.mellon_id\n",
      "WHERE CONVERT_TIMEZONE(\\'PST\\', dp.discussion_post_created_at) BETWEEN \\'2020-10-01 00:00:00\\' AND \\'2022-06-10 00:00:00\\' \n",
      "        AND CONVERT_TIMEZONE(\\'PST\\', dp.discussion_post_created_at) BETWEEN rs.instruc_begins AND rs.final_ends\n",
      "        AND dp.discussion_post_deleted_at IS NULL;\n"
     ]
    }
   ],
   "source": [
    "get_df_query = f'''\n",
    "WITH roster AS\n",
    "         (SELECT DISTINCT mellon_id,\n",
    "                          sis_term_code,\n",
    "                          instruc_begins::DATE,\n",
    "                          (instruc_ends::DATE + 9) AS final_ends,\n",
    "                          canvas_course_id,\n",
    "                          sis_course_code,\n",
    "                          canvas_course_section_id,\n",
    "                          sis_course_section_code\n",
    "          FROM mellon_layer2.enrollment er\n",
    "                   LEFT JOIN mellon_layer2.term_dates td ON er.sis_term_code = td.term_desc\n",
    "          WHERE is_valid_user\n",
    "            AND is_valid_course_section\n",
    "            AND enrollment_type = \\\\'StudentEnrollment\\\\')\n",
    "SELECT dp.*, rs.sis_term_code AS term, st.citizenship_app AS citizenship, st.geo_category\n",
    "FROM mellon_layer2.v_discussion_post AS dp \n",
    "INNER JOIN \n",
    "(SELECT DISTINCT mellon_id, canvas_course_id, instruc_begins, final_ends, sis_term_code FROM roster) AS rs\n",
    "                              ON dp.canvas_course_id = rs.canvas_course_id AND dp.mellon_id = rs.mellon_id\n",
    "LEFT JOIN mellon_layer2.student st \n",
    "                              ON dp.mellon_id = st.mellon_id\n",
    "WHERE CONVERT_TIMEZONE(\\\\'PST\\\\', dp.discussion_post_created_at) BETWEEN \\\\'2020-10-01 00:00:00\\\\' AND \\\\'2022-06-10 00:00:00\\\\' \n",
    "        AND CONVERT_TIMEZONE(\\\\'PST\\\\', dp.discussion_post_created_at) BETWEEN rs.instruc_begins AND rs.final_ends\n",
    "        AND dp.discussion_post_deleted_at IS NULL;'''\n",
    "print(get_df_query)"
   ]
  },
  {
   "cell_type": "code",
   "execution_count": 2,
   "metadata": {},
   "outputs": [],
   "source": [
    "file_in_s3 = 'discussion_post_2020_2022.csv'"
   ]
  },
  {
   "cell_type": "code",
   "execution_count": 13,
   "metadata": {},
   "outputs": [
    {
     "name": "stdout",
     "output_type": "stream",
     "text": [
      "Waiter DataAPIExecution failed: Max attempts exceeded\n",
      "Status: STARTED. Excution time: 0 miliseconds\n",
      "{'ClusterIdentifier': 'uci-datalake-canvas-cluster-v1-redshiftcluster-a9h29wndif8j', 'CreatedAt': datetime.datetime(2022, 7, 27, 23, 41, 24, 193000, tzinfo=tzlocal()), 'Duration': -1, 'HasResultSet': False, 'Id': '8d011573-f9ef-4b9c-8d2e-b6b1c222502f', 'QueryString': \"UNLOAD ('\\nWITH roster AS\\n         (SELECT DISTINCT mellon_id,\\n                          sis_term_code,\\n                          instruc_begins::DATE,\\n                          (instruc_ends::DATE + 9) AS final_ends,\\n                          canvas_course_id,\\n                          sis_course_code,\\n                          canvas_course_section_id,\\n                          sis_course_section_code\\n          FROM mellon_layer2.enrollment er\\n                   LEFT JOIN mellon_layer2.term_dates td ON er.sis_term_code = td.term_desc\\n          WHERE is_valid_user\\n            AND is_valid_course_section\\n            AND enrollment_type = \\\\'StudentEnrollment\\\\')\\nSELECT dp.*, rs.sis_term_code AS term, st.citizenship_app AS citizenship, st.geo_category\\nFROM mellon_layer2.v_discussion_post AS dp \\nINNER JOIN \\n(SELECT DISTINCT mellon_id, canvas_course_id, instruc_begins, final_ends, sis_term_code FROM roster) AS rs\\n                              ON dp.canvas_course_id = rs.canvas_course_id AND dp.mellon_id = rs.mellon_id\\nLEFT JOIN mellon_layer2.student st \\n                              ON dp.mellon_id = st.mellon_id\\nWHERE CONVERT_TIMEZONE(\\\\'PST\\\\', dp.discussion_post_created_at) BETWEEN \\\\'2020-10-01 00:00:00\\\\' AND \\\\'2022-06-10 00:00:00\\\\' \\n        AND CONVERT_TIMEZONE(\\\\'PST\\\\', dp.discussion_post_created_at) BETWEEN rs.instruc_begins AND rs.final_ends\\n        AND dp.discussion_post_deleted_at IS NULL') TO 's3://uci-dll-mellon-redshift-unload-us-west-2/discussion_post_2020_2022.csv' IAM_ROLE '' ALLOWOVERWRITE HEADER ENCRYPTED AUTO FORMAT CSV;\", 'RedshiftPid': 1078586229, 'RedshiftQueryId': 0, 'ResultRows': -1, 'ResultSize': -1, 'SecretArn': 'arn:aws:secretsmanager:us-west-2:848271137894:secret:Redshift-DLL-Sagemaker-Secret-nHWV37', 'Status': 'STARTED', 'UpdatedAt': datetime.datetime(2022, 7, 27, 23, 41, 40, 28000, tzinfo=tzlocal()), 'ResponseMetadata': {'RequestId': 'fbca9660-83e4-4508-a8ca-84119e991c29', 'HTTPStatusCode': 200, 'HTTPHeaders': {'x-amzn-requestid': 'fbca9660-83e4-4508-a8ca-84119e991c29', 'content-type': 'application/x-amz-json-1.1', 'content-length': '2026', 'date': 'Wed, 27 Jul 2022 23:42:04 GMT'}, 'RetryAttempts': 0}}\n"
     ]
    }
   ],
   "source": [
    "redshift_s3_connect.unload_from_redshift_to_s3(get_df_query, file_in_s3, 'csv')"
   ]
  },
  {
   "cell_type": "code",
   "execution_count": 9,
   "metadata": {},
   "outputs": [
    {
     "data": {
      "text/html": [
       "<div>\n",
       "<style scoped>\n",
       "    .dataframe tbody tr th:only-of-type {\n",
       "        vertical-align: middle;\n",
       "    }\n",
       "\n",
       "    .dataframe tbody tr th {\n",
       "        vertical-align: top;\n",
       "    }\n",
       "\n",
       "    .dataframe thead th {\n",
       "        text-align: right;\n",
       "    }\n",
       "</style>\n",
       "<table border=\"1\" class=\"dataframe\">\n",
       "  <thead>\n",
       "    <tr style=\"text-align: right;\">\n",
       "      <th></th>\n",
       "      <th>discussion_post_id</th>\n",
       "      <th>mellon_id</th>\n",
       "      <th>canvas_course_id</th>\n",
       "      <th>discussion_post_content</th>\n",
       "      <th>discussion_post_created_at</th>\n",
       "      <th>discussion_post_updated_at</th>\n",
       "      <th>discussion_post_deleted_at</th>\n",
       "      <th>discussion_post_depth</th>\n",
       "      <th>parent_discussion_post_id</th>\n",
       "      <th>discussion_topic_id</th>\n",
       "      <th>...</th>\n",
       "      <th>is_announcement</th>\n",
       "      <th>discussion_topic_created_at</th>\n",
       "      <th>discussion_topic_posted_at</th>\n",
       "      <th>discussion_topic_delayed_post_at</th>\n",
       "      <th>discussion_topic_pinned</th>\n",
       "      <th>user_group_id</th>\n",
       "      <th>assignment_id</th>\n",
       "      <th>term</th>\n",
       "      <th>citizenship</th>\n",
       "      <th>geo_category</th>\n",
       "    </tr>\n",
       "  </thead>\n",
       "  <tbody>\n",
       "    <tr>\n",
       "      <th>0</th>\n",
       "      <td>3110931</td>\n",
       "      <td>172865</td>\n",
       "      <td>30691</td>\n",
       "      <td>&lt;p&gt;I used to simply read through my papers and...</td>\n",
       "      <td>2020-11-02 07:49:30.285</td>\n",
       "      <td>2020-11-02 07:49:30.285</td>\n",
       "      <td>NaN</td>\n",
       "      <td>1</td>\n",
       "      <td>NaN</td>\n",
       "      <td>403139</td>\n",
       "      <td>...</td>\n",
       "      <td>NaN</td>\n",
       "      <td>2020-09-27 19:56:25.349</td>\n",
       "      <td>2020-09-30 23:53:36.699</td>\n",
       "      <td>NaN</td>\n",
       "      <td>f</td>\n",
       "      <td>NaN</td>\n",
       "      <td>591903.0</td>\n",
       "      <td>Fall 2020</td>\n",
       "      <td>Permanent Resident</td>\n",
       "      <td>Non-OC Southern CA</td>\n",
       "    </tr>\n",
       "    <tr>\n",
       "      <th>1</th>\n",
       "      <td>3110964</td>\n",
       "      <td>172865</td>\n",
       "      <td>30691</td>\n",
       "      <td>&lt;p&gt;Hello Ivan,&lt;/p&gt;\\n&lt;p&gt;I've never thought abou...</td>\n",
       "      <td>2020-11-02 07:51:33.184</td>\n",
       "      <td>2020-11-02 07:51:33.184</td>\n",
       "      <td>NaN</td>\n",
       "      <td>2</td>\n",
       "      <td>3107124.0</td>\n",
       "      <td>403139</td>\n",
       "      <td>...</td>\n",
       "      <td>NaN</td>\n",
       "      <td>2020-09-27 19:56:25.349</td>\n",
       "      <td>2020-09-30 23:53:36.699</td>\n",
       "      <td>NaN</td>\n",
       "      <td>f</td>\n",
       "      <td>NaN</td>\n",
       "      <td>591903.0</td>\n",
       "      <td>Fall 2020</td>\n",
       "      <td>Permanent Resident</td>\n",
       "      <td>Non-OC Southern CA</td>\n",
       "    </tr>\n",
       "    <tr>\n",
       "      <th>2</th>\n",
       "      <td>3061307</td>\n",
       "      <td>172865</td>\n",
       "      <td>30691</td>\n",
       "      <td>&lt;p&gt;Using mobile devices in a business setting,...</td>\n",
       "      <td>2020-10-26 06:50:15.231</td>\n",
       "      <td>2020-10-26 06:50:15.231</td>\n",
       "      <td>NaN</td>\n",
       "      <td>1</td>\n",
       "      <td>NaN</td>\n",
       "      <td>403138</td>\n",
       "      <td>...</td>\n",
       "      <td>NaN</td>\n",
       "      <td>2020-09-27 19:56:22.80</td>\n",
       "      <td>2020-09-30 23:53:17.864</td>\n",
       "      <td>NaN</td>\n",
       "      <td>f</td>\n",
       "      <td>NaN</td>\n",
       "      <td>591902.0</td>\n",
       "      <td>Fall 2020</td>\n",
       "      <td>Permanent Resident</td>\n",
       "      <td>Non-OC Southern CA</td>\n",
       "    </tr>\n",
       "    <tr>\n",
       "      <th>3</th>\n",
       "      <td>3202024</td>\n",
       "      <td>172865</td>\n",
       "      <td>30691</td>\n",
       "      <td>&lt;p&gt;Credibility is an important point of persua...</td>\n",
       "      <td>2020-11-16 07:52:04.144</td>\n",
       "      <td>2020-11-16 07:52:04.144</td>\n",
       "      <td>NaN</td>\n",
       "      <td>1</td>\n",
       "      <td>NaN</td>\n",
       "      <td>403141</td>\n",
       "      <td>...</td>\n",
       "      <td>NaN</td>\n",
       "      <td>2020-09-27 20:09:55.933</td>\n",
       "      <td>2020-09-30 23:53:58.101</td>\n",
       "      <td>NaN</td>\n",
       "      <td>f</td>\n",
       "      <td>NaN</td>\n",
       "      <td>591907.0</td>\n",
       "      <td>Fall 2020</td>\n",
       "      <td>Permanent Resident</td>\n",
       "      <td>Non-OC Southern CA</td>\n",
       "    </tr>\n",
       "    <tr>\n",
       "      <th>4</th>\n",
       "      <td>3202081</td>\n",
       "      <td>172865</td>\n",
       "      <td>30691</td>\n",
       "      <td>&lt;p&gt;Hi Allya,&lt;/p&gt;\\n&lt;p&gt;I didn't even consider th...</td>\n",
       "      <td>2020-11-16 07:54:01.969</td>\n",
       "      <td>2020-11-16 07:54:01.969</td>\n",
       "      <td>NaN</td>\n",
       "      <td>2</td>\n",
       "      <td>3201255.0</td>\n",
       "      <td>403141</td>\n",
       "      <td>...</td>\n",
       "      <td>NaN</td>\n",
       "      <td>2020-09-27 20:09:55.933</td>\n",
       "      <td>2020-09-30 23:53:58.101</td>\n",
       "      <td>NaN</td>\n",
       "      <td>f</td>\n",
       "      <td>NaN</td>\n",
       "      <td>591907.0</td>\n",
       "      <td>Fall 2020</td>\n",
       "      <td>Permanent Resident</td>\n",
       "      <td>Non-OC Southern CA</td>\n",
       "    </tr>\n",
       "  </tbody>\n",
       "</table>\n",
       "<p>5 rows × 21 columns</p>\n",
       "</div>"
      ],
      "text/plain": [
       "   discussion_post_id  mellon_id  canvas_course_id  \\\n",
       "0             3110931     172865             30691   \n",
       "1             3110964     172865             30691   \n",
       "2             3061307     172865             30691   \n",
       "3             3202024     172865             30691   \n",
       "4             3202081     172865             30691   \n",
       "\n",
       "                             discussion_post_content  \\\n",
       "0  <p>I used to simply read through my papers and...   \n",
       "1  <p>Hello Ivan,</p>\\n<p>I've never thought abou...   \n",
       "2  <p>Using mobile devices in a business setting,...   \n",
       "3  <p>Credibility is an important point of persua...   \n",
       "4  <p>Hi Allya,</p>\\n<p>I didn't even consider th...   \n",
       "\n",
       "  discussion_post_created_at discussion_post_updated_at  \\\n",
       "0    2020-11-02 07:49:30.285    2020-11-02 07:49:30.285   \n",
       "1    2020-11-02 07:51:33.184    2020-11-02 07:51:33.184   \n",
       "2    2020-10-26 06:50:15.231    2020-10-26 06:50:15.231   \n",
       "3    2020-11-16 07:52:04.144    2020-11-16 07:52:04.144   \n",
       "4    2020-11-16 07:54:01.969    2020-11-16 07:54:01.969   \n",
       "\n",
       "   discussion_post_deleted_at  discussion_post_depth  \\\n",
       "0                         NaN                      1   \n",
       "1                         NaN                      2   \n",
       "2                         NaN                      1   \n",
       "3                         NaN                      1   \n",
       "4                         NaN                      2   \n",
       "\n",
       "   parent_discussion_post_id  discussion_topic_id  ... is_announcement  \\\n",
       "0                        NaN               403139  ...             NaN   \n",
       "1                  3107124.0               403139  ...             NaN   \n",
       "2                        NaN               403138  ...             NaN   \n",
       "3                        NaN               403141  ...             NaN   \n",
       "4                  3201255.0               403141  ...             NaN   \n",
       "\n",
       "  discussion_topic_created_at discussion_topic_posted_at  \\\n",
       "0     2020-09-27 19:56:25.349    2020-09-30 23:53:36.699   \n",
       "1     2020-09-27 19:56:25.349    2020-09-30 23:53:36.699   \n",
       "2      2020-09-27 19:56:22.80    2020-09-30 23:53:17.864   \n",
       "3     2020-09-27 20:09:55.933    2020-09-30 23:53:58.101   \n",
       "4     2020-09-27 20:09:55.933    2020-09-30 23:53:58.101   \n",
       "\n",
       "  discussion_topic_delayed_post_at discussion_topic_pinned user_group_id  \\\n",
       "0                              NaN                       f           NaN   \n",
       "1                              NaN                       f           NaN   \n",
       "2                              NaN                       f           NaN   \n",
       "3                              NaN                       f           NaN   \n",
       "4                              NaN                       f           NaN   \n",
       "\n",
       "   assignment_id       term         citizenship        geo_category  \n",
       "0       591903.0  Fall 2020  Permanent Resident  Non-OC Southern CA  \n",
       "1       591903.0  Fall 2020  Permanent Resident  Non-OC Southern CA  \n",
       "2       591902.0  Fall 2020  Permanent Resident  Non-OC Southern CA  \n",
       "3       591907.0  Fall 2020  Permanent Resident  Non-OC Southern CA  \n",
       "4       591907.0  Fall 2020  Permanent Resident  Non-OC Southern CA  \n",
       "\n",
       "[5 rows x 21 columns]"
      ]
     },
     "execution_count": 9,
     "metadata": {},
     "output_type": "execute_result"
    }
   ],
   "source": [
    "file_names = [file_in_s3]\n",
    "file_type = 'csv'\n",
    "discussion_post = redshift_s3_connect.read_from_s3(file_names, file_type)\n",
    "discussion_post.head(5)"
   ]
  },
  {
   "cell_type": "code",
   "execution_count": 10,
   "metadata": {},
   "outputs": [
    {
     "data": {
      "text/plain": [
       "1168344"
      ]
     },
     "execution_count": 10,
     "metadata": {},
     "output_type": "execute_result"
    }
   ],
   "source": [
    "len(discussion_post)"
   ]
  },
  {
   "cell_type": "code",
   "execution_count": 11,
   "metadata": {},
   "outputs": [],
   "source": [
    "discussion_post.to_csv('discussion_post_2020_2022.csv')"
   ]
  },
  {
   "cell_type": "code",
   "execution_count": 4,
   "metadata": {},
   "outputs": [],
   "source": [
    "df = pd.read_csv('discussion_post_2020_2022.csv')"
   ]
  },
  {
   "cell_type": "code",
   "execution_count": 5,
   "metadata": {},
   "outputs": [
    {
     "data": {
      "text/html": [
       "<div>\n",
       "<style scoped>\n",
       "    .dataframe tbody tr th:only-of-type {\n",
       "        vertical-align: middle;\n",
       "    }\n",
       "\n",
       "    .dataframe tbody tr th {\n",
       "        vertical-align: top;\n",
       "    }\n",
       "\n",
       "    .dataframe thead th {\n",
       "        text-align: right;\n",
       "    }\n",
       "</style>\n",
       "<table border=\"1\" class=\"dataframe\">\n",
       "  <thead>\n",
       "    <tr style=\"text-align: right;\">\n",
       "      <th></th>\n",
       "      <th>Unnamed: 0</th>\n",
       "      <th>discussion_post_id</th>\n",
       "      <th>mellon_id</th>\n",
       "      <th>canvas_course_id</th>\n",
       "      <th>discussion_post_content</th>\n",
       "      <th>discussion_post_created_at</th>\n",
       "      <th>discussion_post_updated_at</th>\n",
       "      <th>discussion_post_deleted_at</th>\n",
       "      <th>discussion_post_depth</th>\n",
       "      <th>parent_discussion_post_id</th>\n",
       "      <th>...</th>\n",
       "      <th>is_announcement</th>\n",
       "      <th>discussion_topic_created_at</th>\n",
       "      <th>discussion_topic_posted_at</th>\n",
       "      <th>discussion_topic_delayed_post_at</th>\n",
       "      <th>discussion_topic_pinned</th>\n",
       "      <th>user_group_id</th>\n",
       "      <th>assignment_id</th>\n",
       "      <th>term</th>\n",
       "      <th>citizenship</th>\n",
       "      <th>geo_category</th>\n",
       "    </tr>\n",
       "  </thead>\n",
       "  <tbody>\n",
       "    <tr>\n",
       "      <th>0</th>\n",
       "      <td>0</td>\n",
       "      <td>3110931</td>\n",
       "      <td>172865</td>\n",
       "      <td>30691</td>\n",
       "      <td>&lt;p&gt;I used to simply read through my papers and...</td>\n",
       "      <td>2020-11-02 07:49:30.285</td>\n",
       "      <td>2020-11-02 07:49:30.285</td>\n",
       "      <td>NaN</td>\n",
       "      <td>1</td>\n",
       "      <td>NaN</td>\n",
       "      <td>...</td>\n",
       "      <td>NaN</td>\n",
       "      <td>2020-09-27 19:56:25.349</td>\n",
       "      <td>2020-09-30 23:53:36.699</td>\n",
       "      <td>NaN</td>\n",
       "      <td>f</td>\n",
       "      <td>NaN</td>\n",
       "      <td>591903.0</td>\n",
       "      <td>Fall 2020</td>\n",
       "      <td>Permanent Resident</td>\n",
       "      <td>Non-OC Southern CA</td>\n",
       "    </tr>\n",
       "    <tr>\n",
       "      <th>1</th>\n",
       "      <td>1</td>\n",
       "      <td>3110964</td>\n",
       "      <td>172865</td>\n",
       "      <td>30691</td>\n",
       "      <td>&lt;p&gt;Hello Ivan,&lt;/p&gt;\\n&lt;p&gt;I've never thought abou...</td>\n",
       "      <td>2020-11-02 07:51:33.184</td>\n",
       "      <td>2020-11-02 07:51:33.184</td>\n",
       "      <td>NaN</td>\n",
       "      <td>2</td>\n",
       "      <td>3107124.0</td>\n",
       "      <td>...</td>\n",
       "      <td>NaN</td>\n",
       "      <td>2020-09-27 19:56:25.349</td>\n",
       "      <td>2020-09-30 23:53:36.699</td>\n",
       "      <td>NaN</td>\n",
       "      <td>f</td>\n",
       "      <td>NaN</td>\n",
       "      <td>591903.0</td>\n",
       "      <td>Fall 2020</td>\n",
       "      <td>Permanent Resident</td>\n",
       "      <td>Non-OC Southern CA</td>\n",
       "    </tr>\n",
       "    <tr>\n",
       "      <th>2</th>\n",
       "      <td>2</td>\n",
       "      <td>3061307</td>\n",
       "      <td>172865</td>\n",
       "      <td>30691</td>\n",
       "      <td>&lt;p&gt;Using mobile devices in a business setting,...</td>\n",
       "      <td>2020-10-26 06:50:15.231</td>\n",
       "      <td>2020-10-26 06:50:15.231</td>\n",
       "      <td>NaN</td>\n",
       "      <td>1</td>\n",
       "      <td>NaN</td>\n",
       "      <td>...</td>\n",
       "      <td>NaN</td>\n",
       "      <td>2020-09-27 19:56:22.80</td>\n",
       "      <td>2020-09-30 23:53:17.864</td>\n",
       "      <td>NaN</td>\n",
       "      <td>f</td>\n",
       "      <td>NaN</td>\n",
       "      <td>591902.0</td>\n",
       "      <td>Fall 2020</td>\n",
       "      <td>Permanent Resident</td>\n",
       "      <td>Non-OC Southern CA</td>\n",
       "    </tr>\n",
       "  </tbody>\n",
       "</table>\n",
       "<p>3 rows × 22 columns</p>\n",
       "</div>"
      ],
      "text/plain": [
       "   Unnamed: 0  discussion_post_id  mellon_id  canvas_course_id  \\\n",
       "0           0             3110931     172865             30691   \n",
       "1           1             3110964     172865             30691   \n",
       "2           2             3061307     172865             30691   \n",
       "\n",
       "                             discussion_post_content  \\\n",
       "0  <p>I used to simply read through my papers and...   \n",
       "1  <p>Hello Ivan,</p>\\n<p>I've never thought abou...   \n",
       "2  <p>Using mobile devices in a business setting,...   \n",
       "\n",
       "  discussion_post_created_at discussion_post_updated_at  \\\n",
       "0    2020-11-02 07:49:30.285    2020-11-02 07:49:30.285   \n",
       "1    2020-11-02 07:51:33.184    2020-11-02 07:51:33.184   \n",
       "2    2020-10-26 06:50:15.231    2020-10-26 06:50:15.231   \n",
       "\n",
       "   discussion_post_deleted_at  discussion_post_depth  \\\n",
       "0                         NaN                      1   \n",
       "1                         NaN                      2   \n",
       "2                         NaN                      1   \n",
       "\n",
       "   parent_discussion_post_id  ...  is_announcement  \\\n",
       "0                        NaN  ...              NaN   \n",
       "1                  3107124.0  ...              NaN   \n",
       "2                        NaN  ...              NaN   \n",
       "\n",
       "  discussion_topic_created_at discussion_topic_posted_at  \\\n",
       "0     2020-09-27 19:56:25.349    2020-09-30 23:53:36.699   \n",
       "1     2020-09-27 19:56:25.349    2020-09-30 23:53:36.699   \n",
       "2      2020-09-27 19:56:22.80    2020-09-30 23:53:17.864   \n",
       "\n",
       "  discussion_topic_delayed_post_at discussion_topic_pinned user_group_id  \\\n",
       "0                              NaN                       f           NaN   \n",
       "1                              NaN                       f           NaN   \n",
       "2                              NaN                       f           NaN   \n",
       "\n",
       "  assignment_id       term         citizenship        geo_category  \n",
       "0      591903.0  Fall 2020  Permanent Resident  Non-OC Southern CA  \n",
       "1      591903.0  Fall 2020  Permanent Resident  Non-OC Southern CA  \n",
       "2      591902.0  Fall 2020  Permanent Resident  Non-OC Southern CA  \n",
       "\n",
       "[3 rows x 22 columns]"
      ]
     },
     "execution_count": 5,
     "metadata": {},
     "output_type": "execute_result"
    }
   ],
   "source": [
    "df.head(3)"
   ]
  },
  {
   "cell_type": "code",
   "execution_count": 17,
   "metadata": {},
   "outputs": [
    {
     "data": {
      "text/html": [
       "<div>\n",
       "<style scoped>\n",
       "    .dataframe tbody tr th:only-of-type {\n",
       "        vertical-align: middle;\n",
       "    }\n",
       "\n",
       "    .dataframe tbody tr th {\n",
       "        vertical-align: top;\n",
       "    }\n",
       "\n",
       "    .dataframe thead th {\n",
       "        text-align: right;\n",
       "    }\n",
       "</style>\n",
       "<table border=\"1\" class=\"dataframe\">\n",
       "  <thead>\n",
       "    <tr style=\"text-align: right;\">\n",
       "      <th></th>\n",
       "      <th>geo_category</th>\n",
       "      <th>mellon_id</th>\n",
       "    </tr>\n",
       "  </thead>\n",
       "  <tbody>\n",
       "    <tr>\n",
       "      <th>0</th>\n",
       "      <td>Foreign Student</td>\n",
       "      <td>2106</td>\n",
       "    </tr>\n",
       "    <tr>\n",
       "      <th>1</th>\n",
       "      <td>Non-OC Southern CA</td>\n",
       "      <td>9293</td>\n",
       "    </tr>\n",
       "    <tr>\n",
       "      <th>2</th>\n",
       "      <td>Orange County</td>\n",
       "      <td>4803</td>\n",
       "    </tr>\n",
       "    <tr>\n",
       "      <th>3</th>\n",
       "      <td>Other CA</td>\n",
       "      <td>3821</td>\n",
       "    </tr>\n",
       "    <tr>\n",
       "      <th>4</th>\n",
       "      <td>Out of State US</td>\n",
       "      <td>606</td>\n",
       "    </tr>\n",
       "  </tbody>\n",
       "</table>\n",
       "</div>"
      ],
      "text/plain": [
       "         geo_category  mellon_id\n",
       "0     Foreign Student       2106\n",
       "1  Non-OC Southern CA       9293\n",
       "2       Orange County       4803\n",
       "3            Other CA       3821\n",
       "4     Out of State US        606"
      ]
     },
     "execution_count": 17,
     "metadata": {},
     "output_type": "execute_result"
    }
   ],
   "source": [
    "df.groupby(by='geo_category')['mellon_id'].nunique().reset_index()"
   ]
  },
  {
   "cell_type": "code",
   "execution_count": 12,
   "metadata": {},
   "outputs": [],
   "source": [
    "df_small = discussion_post.sample(n=100000)"
   ]
  },
  {
   "cell_type": "code",
   "execution_count": 13,
   "metadata": {},
   "outputs": [],
   "source": [
    "df_small.to_csv('discussion_post_2020_2022_small.csv')"
   ]
  },
  {
   "cell_type": "code",
   "execution_count": 14,
   "metadata": {},
   "outputs": [
    {
     "data": {
      "text/html": [
       "<div>\n",
       "<style scoped>\n",
       "    .dataframe tbody tr th:only-of-type {\n",
       "        vertical-align: middle;\n",
       "    }\n",
       "\n",
       "    .dataframe tbody tr th {\n",
       "        vertical-align: top;\n",
       "    }\n",
       "\n",
       "    .dataframe thead th {\n",
       "        text-align: right;\n",
       "    }\n",
       "</style>\n",
       "<table border=\"1\" class=\"dataframe\">\n",
       "  <thead>\n",
       "    <tr style=\"text-align: right;\">\n",
       "      <th></th>\n",
       "      <th>term</th>\n",
       "      <th>discussion_post_cnt</th>\n",
       "    </tr>\n",
       "  </thead>\n",
       "  <tbody>\n",
       "    <tr>\n",
       "      <th>0</th>\n",
       "      <td>Fall 2020</td>\n",
       "      <td>300551</td>\n",
       "    </tr>\n",
       "    <tr>\n",
       "      <th>4</th>\n",
       "      <td>Winter 2021</td>\n",
       "      <td>268359</td>\n",
       "    </tr>\n",
       "    <tr>\n",
       "      <th>2</th>\n",
       "      <td>Spring 2021</td>\n",
       "      <td>250647</td>\n",
       "    </tr>\n",
       "    <tr>\n",
       "      <th>1</th>\n",
       "      <td>Fall 2021</td>\n",
       "      <td>140963</td>\n",
       "    </tr>\n",
       "    <tr>\n",
       "      <th>5</th>\n",
       "      <td>Winter 2022</td>\n",
       "      <td>116430</td>\n",
       "    </tr>\n",
       "    <tr>\n",
       "      <th>3</th>\n",
       "      <td>Spring 2022</td>\n",
       "      <td>91394</td>\n",
       "    </tr>\n",
       "  </tbody>\n",
       "</table>\n",
       "</div>"
      ],
      "text/plain": [
       "          term  discussion_post_cnt\n",
       "0    Fall 2020               300551\n",
       "4  Winter 2021               268359\n",
       "2  Spring 2021               250647\n",
       "1    Fall 2021               140963\n",
       "5  Winter 2022               116430\n",
       "3  Spring 2022                91394"
      ]
     },
     "execution_count": 14,
     "metadata": {},
     "output_type": "execute_result"
    }
   ],
   "source": [
    "discussion_post.groupby(by='term')['discussion_post_id'].count().reset_index(name='discussion_post_cnt').reindex([0, 4, 2, 1, 5, 3])"
   ]
  },
  {
   "cell_type": "markdown",
   "metadata": {},
   "source": [
    "# 2. Preprocess the data"
   ]
  },
  {
   "cell_type": "markdown",
   "metadata": {},
   "source": [
    "## 2.1 Clean the data"
   ]
  },
  {
   "cell_type": "code",
   "execution_count": 2,
   "metadata": {},
   "outputs": [],
   "source": [
    "import online_discourse_analysis as oda\n",
    "import numpy as np\n",
    "import pandas as pd"
   ]
  },
  {
   "cell_type": "code",
   "execution_count": 3,
   "metadata": {},
   "outputs": [],
   "source": [
    "df = pd.read_csv('discussion_post_2020_2022.csv', index_col=False)"
   ]
  },
  {
   "cell_type": "code",
   "execution_count": null,
   "metadata": {},
   "outputs": [
    {
     "name": "stderr",
     "output_type": "stream",
     "text": [
      "/root/Discussion_Behavior_Project/online_discourse_analysis.py:20: FutureWarning: The default value of regex will change from True to False in a future version.\n",
      "  df['cleaned_discussion_post'] = df['discussion_post_content'].str.replace(regex, '')\n"
     ]
    }
   ],
   "source": [
    "df = oda.discussion_text_clean(df)"
   ]
  },
  {
   "cell_type": "code",
   "execution_count": 5,
   "metadata": {},
   "outputs": [
    {
     "data": {
      "text/plain": [
       "1168344"
      ]
     },
     "execution_count": 5,
     "metadata": {},
     "output_type": "execute_result"
    }
   ],
   "source": [
    "df"
   ]
  },
  {
   "cell_type": "markdown",
   "metadata": {},
   "source": [
    "## 2.2 Transfer the UTC timestamp to Pacific timestamp"
   ]
  },
  {
   "cell_type": "code",
   "execution_count": 14,
   "metadata": {},
   "outputs": [],
   "source": [
    "df = oda.utc_to_pts(df_small)"
   ]
  },
  {
   "cell_type": "code",
   "execution_count": 10,
   "metadata": {},
   "outputs": [
    {
     "data": {
      "text/html": [
       "<div>\n",
       "<style scoped>\n",
       "    .dataframe tbody tr th:only-of-type {\n",
       "        vertical-align: middle;\n",
       "    }\n",
       "\n",
       "    .dataframe tbody tr th {\n",
       "        vertical-align: top;\n",
       "    }\n",
       "\n",
       "    .dataframe thead th {\n",
       "        text-align: right;\n",
       "    }\n",
       "</style>\n",
       "<table border=\"1\" class=\"dataframe\">\n",
       "  <thead>\n",
       "    <tr style=\"text-align: right;\">\n",
       "      <th></th>\n",
       "      <th>Unnamed: 0</th>\n",
       "      <th>Unnamed: 0.1</th>\n",
       "      <th>discussion_post_id</th>\n",
       "      <th>mellon_id</th>\n",
       "      <th>canvas_course_id</th>\n",
       "      <th>discussion_post_content</th>\n",
       "      <th>discussion_post_created_at</th>\n",
       "      <th>discussion_post_updated_at</th>\n",
       "      <th>discussion_post_deleted_at</th>\n",
       "      <th>discussion_post_depth</th>\n",
       "      <th>...</th>\n",
       "      <th>discussion_topic_id</th>\n",
       "      <th>discussion_topic_title</th>\n",
       "      <th>is_announcement</th>\n",
       "      <th>discussion_topic_created_at</th>\n",
       "      <th>discussion_topic_posted_at</th>\n",
       "      <th>discussion_topic_delayed_post_at</th>\n",
       "      <th>discussion_topic_pinned</th>\n",
       "      <th>user_group_id</th>\n",
       "      <th>assignment_id</th>\n",
       "      <th>term</th>\n",
       "    </tr>\n",
       "  </thead>\n",
       "  <tbody>\n",
       "    <tr>\n",
       "      <th>0</th>\n",
       "      <td>818696</td>\n",
       "      <td>818696</td>\n",
       "      <td>3710696</td>\n",
       "      <td>184024</td>\n",
       "      <td>33621</td>\n",
       "      <td>&lt;p&gt;Going through the Kriger et. al reading sol...</td>\n",
       "      <td>2021-02-22 02:21:08.093000+00:00</td>\n",
       "      <td>2021-02-22 02:21:08.093</td>\n",
       "      <td>NaN</td>\n",
       "      <td>1</td>\n",
       "      <td>...</td>\n",
       "      <td>465175</td>\n",
       "      <td>Week 7 RPR</td>\n",
       "      <td>NaN</td>\n",
       "      <td>2020-12-28 17:13:43.494</td>\n",
       "      <td>2021-02-15 04:25:16.831000+00:00</td>\n",
       "      <td>NaN</td>\n",
       "      <td>f</td>\n",
       "      <td>NaN</td>\n",
       "      <td>654138.0</td>\n",
       "      <td>Winter 2021</td>\n",
       "    </tr>\n",
       "    <tr>\n",
       "      <th>1</th>\n",
       "      <td>1163402</td>\n",
       "      <td>1163402</td>\n",
       "      <td>3280790</td>\n",
       "      <td>189732</td>\n",
       "      <td>29719</td>\n",
       "      <td>&lt;p&gt;The drug I am looking for is loratadine. Th...</td>\n",
       "      <td>2020-11-30 06:14:56.718000+00:00</td>\n",
       "      <td>2020-11-30 06:14:56.718</td>\n",
       "      <td>NaN</td>\n",
       "      <td>1</td>\n",
       "      <td>...</td>\n",
       "      <td>408802</td>\n",
       "      <td>Week 8 Discussion 1 (Side-effects) - Group 27</td>\n",
       "      <td>NaN</td>\n",
       "      <td>2020-10-01 01:43:16.391</td>\n",
       "      <td>2020-10-01 01:43:16.391000+00:00</td>\n",
       "      <td>NaN</td>\n",
       "      <td>f</td>\n",
       "      <td>98950.0</td>\n",
       "      <td>575833.0</td>\n",
       "      <td>Fall 2020</td>\n",
       "    </tr>\n",
       "    <tr>\n",
       "      <th>2</th>\n",
       "      <td>1069337</td>\n",
       "      <td>1069337</td>\n",
       "      <td>3937321</td>\n",
       "      <td>180683</td>\n",
       "      <td>35411</td>\n",
       "      <td>&lt;p&gt;I totally agree with the idea that stress w...</td>\n",
       "      <td>2021-04-12 00:23:58.330000+00:00</td>\n",
       "      <td>2021-04-12 00:23:58.33</td>\n",
       "      <td>NaN</td>\n",
       "      <td>1</td>\n",
       "      <td>...</td>\n",
       "      <td>521980</td>\n",
       "      <td>Discussion 2: The Etiology, Physiology, Sympto...</td>\n",
       "      <td>NaN</td>\n",
       "      <td>2021-03-20 00:55:55.57</td>\n",
       "      <td>2021-03-20 00:55:55.570000+00:00</td>\n",
       "      <td>NaN</td>\n",
       "      <td>f</td>\n",
       "      <td>122281.0</td>\n",
       "      <td>709312.0</td>\n",
       "      <td>Spring 2021</td>\n",
       "    </tr>\n",
       "    <tr>\n",
       "      <th>3</th>\n",
       "      <td>279733</td>\n",
       "      <td>279733</td>\n",
       "      <td>3419760</td>\n",
       "      <td>173435</td>\n",
       "      <td>34214</td>\n",
       "      <td>&lt;p&gt;Hello everyone!! My name is Darshit Shethna...</td>\n",
       "      <td>2021-01-09 10:59:23.040000+00:00</td>\n",
       "      <td>2021-01-09 10:59:54.513</td>\n",
       "      <td>NaN</td>\n",
       "      <td>1</td>\n",
       "      <td>...</td>\n",
       "      <td>478022</td>\n",
       "      <td>INTRODUCTIONS</td>\n",
       "      <td>NaN</td>\n",
       "      <td>2021-01-06 07:09:05.054</td>\n",
       "      <td>2021-01-06 07:09:05.469000+00:00</td>\n",
       "      <td>NaN</td>\n",
       "      <td>f</td>\n",
       "      <td>NaN</td>\n",
       "      <td>675548.0</td>\n",
       "      <td>Winter 2021</td>\n",
       "    </tr>\n",
       "    <tr>\n",
       "      <th>4</th>\n",
       "      <td>1055184</td>\n",
       "      <td>1055184</td>\n",
       "      <td>3812426</td>\n",
       "      <td>196511</td>\n",
       "      <td>34162</td>\n",
       "      <td>&lt;p&gt;&lt;span&gt;Hypoactive Sexual Desire Disorder (AK...</td>\n",
       "      <td>2021-03-11 06:52:05.860000+00:00</td>\n",
       "      <td>2021-03-11 06:52:05.86</td>\n",
       "      <td>NaN</td>\n",
       "      <td>1</td>\n",
       "      <td>...</td>\n",
       "      <td>512474</td>\n",
       "      <td>Discussion 10: Health &amp; Medicine - Group 4</td>\n",
       "      <td>NaN</td>\n",
       "      <td>2021-03-08 03:16:04.695</td>\n",
       "      <td>2021-03-08 03:16:04.698000+00:00</td>\n",
       "      <td>NaN</td>\n",
       "      <td>f</td>\n",
       "      <td>110753.0</td>\n",
       "      <td>702805.0</td>\n",
       "      <td>Winter 2021</td>\n",
       "    </tr>\n",
       "  </tbody>\n",
       "</table>\n",
       "<p>5 rows × 21 columns</p>\n",
       "</div>"
      ],
      "text/plain": [
       "   Unnamed: 0  Unnamed: 0.1  discussion_post_id  mellon_id  canvas_course_id  \\\n",
       "0      818696        818696             3710696     184024             33621   \n",
       "1     1163402       1163402             3280790     189732             29719   \n",
       "2     1069337       1069337             3937321     180683             35411   \n",
       "3      279733        279733             3419760     173435             34214   \n",
       "4     1055184       1055184             3812426     196511             34162   \n",
       "\n",
       "                             discussion_post_content  \\\n",
       "0  <p>Going through the Kriger et. al reading sol...   \n",
       "1  <p>The drug I am looking for is loratadine. Th...   \n",
       "2  <p>I totally agree with the idea that stress w...   \n",
       "3  <p>Hello everyone!! My name is Darshit Shethna...   \n",
       "4  <p><span>Hypoactive Sexual Desire Disorder (AK...   \n",
       "\n",
       "        discussion_post_created_at discussion_post_updated_at  \\\n",
       "0 2021-02-22 02:21:08.093000+00:00    2021-02-22 02:21:08.093   \n",
       "1 2020-11-30 06:14:56.718000+00:00    2020-11-30 06:14:56.718   \n",
       "2 2021-04-12 00:23:58.330000+00:00     2021-04-12 00:23:58.33   \n",
       "3 2021-01-09 10:59:23.040000+00:00    2021-01-09 10:59:54.513   \n",
       "4 2021-03-11 06:52:05.860000+00:00     2021-03-11 06:52:05.86   \n",
       "\n",
       "  discussion_post_deleted_at  discussion_post_depth  ...  discussion_topic_id  \\\n",
       "0                        NaN                      1  ...               465175   \n",
       "1                        NaN                      1  ...               408802   \n",
       "2                        NaN                      1  ...               521980   \n",
       "3                        NaN                      1  ...               478022   \n",
       "4                        NaN                      1  ...               512474   \n",
       "\n",
       "                              discussion_topic_title is_announcement  \\\n",
       "0                                         Week 7 RPR             NaN   \n",
       "1      Week 8 Discussion 1 (Side-effects) - Group 27             NaN   \n",
       "2  Discussion 2: The Etiology, Physiology, Sympto...             NaN   \n",
       "3                                      INTRODUCTIONS             NaN   \n",
       "4         Discussion 10: Health & Medicine - Group 4             NaN   \n",
       "\n",
       "  discussion_topic_created_at       discussion_topic_posted_at  \\\n",
       "0     2020-12-28 17:13:43.494 2021-02-15 04:25:16.831000+00:00   \n",
       "1     2020-10-01 01:43:16.391 2020-10-01 01:43:16.391000+00:00   \n",
       "2      2021-03-20 00:55:55.57 2021-03-20 00:55:55.570000+00:00   \n",
       "3     2021-01-06 07:09:05.054 2021-01-06 07:09:05.469000+00:00   \n",
       "4     2021-03-08 03:16:04.695 2021-03-08 03:16:04.698000+00:00   \n",
       "\n",
       "  discussion_topic_delayed_post_at discussion_topic_pinned user_group_id  \\\n",
       "0                              NaN                       f           NaN   \n",
       "1                              NaN                       f       98950.0   \n",
       "2                              NaN                       f      122281.0   \n",
       "3                              NaN                       f           NaN   \n",
       "4                              NaN                       f      110753.0   \n",
       "\n",
       "   assignment_id         term  \n",
       "0       654138.0  Winter 2021  \n",
       "1       575833.0    Fall 2020  \n",
       "2       709312.0  Spring 2021  \n",
       "3       675548.0  Winter 2021  \n",
       "4       702805.0  Winter 2021  \n",
       "\n",
       "[5 rows x 21 columns]"
      ]
     },
     "execution_count": 10,
     "metadata": {},
     "output_type": "execute_result"
    }
   ],
   "source": [
    "df.head(5)"
   ]
  },
  {
   "cell_type": "markdown",
   "metadata": {},
   "source": [
    "# 3. Calculate Behavioral Features"
   ]
  },
  {
   "cell_type": "code",
   "execution_count": 15,
   "metadata": {},
   "outputs": [],
   "source": [
    "df = oda.discussion_topic_post_time_gap(df)"
   ]
  },
  {
   "cell_type": "code",
   "execution_count": 17,
   "metadata": {},
   "outputs": [],
   "source": [
    "df = oda.calculate_features_avg(df, ['discussion_topic_post_time_gap'])"
   ]
  },
  {
   "cell_type": "code",
   "execution_count": 8,
   "metadata": {},
   "outputs": [],
   "source": [
    "df_cnt = oda.discussion_post_count(df)"
   ]
  },
  {
   "cell_type": "code",
   "execution_count": null,
   "metadata": {},
   "outputs": [],
   "source": [
    "df = df.merge(df_cnt, how='inner', on='term')"
   ]
  },
  {
   "cell_type": "code",
   "execution_count": 18,
   "metadata": {},
   "outputs": [
    {
     "data": {
      "text/html": [
       "<div>\n",
       "<style scoped>\n",
       "    .dataframe tbody tr th:only-of-type {\n",
       "        vertical-align: middle;\n",
       "    }\n",
       "\n",
       "    .dataframe tbody tr th {\n",
       "        vertical-align: top;\n",
       "    }\n",
       "\n",
       "    .dataframe thead th {\n",
       "        text-align: right;\n",
       "    }\n",
       "</style>\n",
       "<table border=\"1\" class=\"dataframe\">\n",
       "  <thead>\n",
       "    <tr style=\"text-align: right;\">\n",
       "      <th></th>\n",
       "      <th>term</th>\n",
       "      <th>discussion_topic_post_time_gap_avg</th>\n",
       "    </tr>\n",
       "  </thead>\n",
       "  <tbody>\n",
       "    <tr>\n",
       "      <th>0</th>\n",
       "      <td>0</td>\n",
       "      <td>30.423914</td>\n",
       "    </tr>\n",
       "    <tr>\n",
       "      <th>1</th>\n",
       "      <td>Fall 2020</td>\n",
       "      <td>21.495316</td>\n",
       "    </tr>\n",
       "    <tr>\n",
       "      <th>2</th>\n",
       "      <td>Fall 2021</td>\n",
       "      <td>27.240580</td>\n",
       "    </tr>\n",
       "    <tr>\n",
       "      <th>3</th>\n",
       "      <td>Spring 2021</td>\n",
       "      <td>19.848608</td>\n",
       "    </tr>\n",
       "    <tr>\n",
       "      <th>4</th>\n",
       "      <td>Spring 2022</td>\n",
       "      <td>27.877707</td>\n",
       "    </tr>\n",
       "    <tr>\n",
       "      <th>5</th>\n",
       "      <td>Summer 2021</td>\n",
       "      <td>17.694850</td>\n",
       "    </tr>\n",
       "    <tr>\n",
       "      <th>6</th>\n",
       "      <td>Winter 2021</td>\n",
       "      <td>17.389650</td>\n",
       "    </tr>\n",
       "    <tr>\n",
       "      <th>7</th>\n",
       "      <td>Winter 2022</td>\n",
       "      <td>19.990592</td>\n",
       "    </tr>\n",
       "  </tbody>\n",
       "</table>\n",
       "</div>"
      ],
      "text/plain": [
       "          term  discussion_topic_post_time_gap_avg\n",
       "0            0                           30.423914\n",
       "1    Fall 2020                           21.495316\n",
       "2    Fall 2021                           27.240580\n",
       "3  Spring 2021                           19.848608\n",
       "4  Spring 2022                           27.877707\n",
       "5  Summer 2021                           17.694850\n",
       "6  Winter 2021                           17.389650\n",
       "7  Winter 2022                           19.990592"
      ]
     },
     "execution_count": 18,
     "metadata": {},
     "output_type": "execute_result"
    }
   ],
   "source": [
    "df.head(10)"
   ]
  },
  {
   "cell_type": "markdown",
   "metadata": {},
   "source": [
    "# Calculate Reply Rates"
   ]
  },
  {
   "cell_type": "code",
   "execution_count": 9,
   "metadata": {},
   "outputs": [],
   "source": [
    "df = pd.read_csv('discussion_post_2020_2022.csv')"
   ]
  },
  {
   "cell_type": "code",
   "execution_count": 10,
   "metadata": {},
   "outputs": [],
   "source": [
    "df = oda.discussion_reply_rate(df)"
   ]
  },
  {
   "cell_type": "code",
   "execution_count": 11,
   "metadata": {},
   "outputs": [],
   "source": [
    "df1 = df[['discussion_post_id', 'discussion_post_content', 'reply_rate']]"
   ]
  },
  {
   "cell_type": "code",
   "execution_count": 12,
   "metadata": {},
   "outputs": [
    {
     "name": "stderr",
     "output_type": "stream",
     "text": [
      "/root/Discussion_Behavior_Project/online_discourse_analysis.py:15: SettingWithCopyWarning: \n",
      "A value is trying to be set on a copy of a slice from a DataFrame.\n",
      "Try using .loc[row_indexer,col_indexer] = value instead\n",
      "\n",
      "See the caveats in the documentation: https://pandas.pydata.org/pandas-docs/stable/user_guide/indexing.html#returning-a-view-versus-a-copy\n",
      "  df['cleaned_discussion_post'] = df['discussion_post_content'].str.replace(regex, '')\n"
     ]
    }
   ],
   "source": [
    "df1 = oda.discussion_text_clean(df1)"
   ]
  },
  {
   "cell_type": "markdown",
   "metadata": {},
   "source": [
    "# LDA Models"
   ]
  },
  {
   "cell_type": "markdown",
   "metadata": {},
   "source": [
    "## High Reply Rate Analysis"
   ]
  },
  {
   "cell_type": "code",
   "execution_count": 6,
   "metadata": {},
   "outputs": [
    {
     "name": "stdout",
     "output_type": "stream",
     "text": [
      "Requirement already satisfied: nltk in /opt/conda/lib/python3.7/site-packages (3.7)\n",
      "Requirement already satisfied: tqdm in /opt/conda/lib/python3.7/site-packages (from nltk) (4.42.1)\n",
      "Requirement already satisfied: click in /opt/conda/lib/python3.7/site-packages (from nltk) (7.0)\n",
      "Requirement already satisfied: joblib in /opt/conda/lib/python3.7/site-packages (from nltk) (0.14.1)\n",
      "Requirement already satisfied: regex>=2021.8.3 in /opt/conda/lib/python3.7/site-packages (from nltk) (2022.6.2)\n",
      "\u001b[33mWARNING: Running pip as the 'root' user can result in broken permissions and conflicting behaviour with the system package manager. It is recommended to use a virtual environment instead: https://pip.pypa.io/warnings/venv\u001b[0m\u001b[33m\n",
      "\u001b[0mCollecting stop-words\n",
      "  Using cached stop_words-2018.7.23-py3-none-any.whl\n",
      "Installing collected packages: stop-words\n",
      "Successfully installed stop-words-2018.7.23\n",
      "\u001b[33mWARNING: Running pip as the 'root' user can result in broken permissions and conflicting behaviour with the system package manager. It is recommended to use a virtual environment instead: https://pip.pypa.io/warnings/venv\u001b[0m\u001b[33m\n",
      "\u001b[0mCollecting gensim\n",
      "  Using cached gensim-4.2.0-cp37-cp37m-manylinux_2_12_x86_64.manylinux2010_x86_64.whl (24.1 MB)\n",
      "Collecting smart-open>=1.8.1\n",
      "  Using cached smart_open-6.0.0-py3-none-any.whl (58 kB)\n",
      "Requirement already satisfied: numpy>=1.17.0 in /opt/conda/lib/python3.7/site-packages (from gensim) (1.21.6)\n",
      "Requirement already satisfied: scipy>=0.18.1 in /opt/conda/lib/python3.7/site-packages (from gensim) (1.4.1)\n",
      "Installing collected packages: smart-open, gensim\n",
      "Successfully installed gensim-4.2.0 smart-open-6.0.0\n",
      "\u001b[33mWARNING: Running pip as the 'root' user can result in broken permissions and conflicting behaviour with the system package manager. It is recommended to use a virtual environment instead: https://pip.pypa.io/warnings/venv\u001b[0m\u001b[33m\n",
      "\u001b[0m"
     ]
    }
   ],
   "source": [
    "!pip3 install -U nltk\n",
    "!pip3 install stop-words\n",
    "!pip3 install gensim"
   ]
  },
  {
   "cell_type": "code",
   "execution_count": 75,
   "metadata": {},
   "outputs": [],
   "source": [
    "from nltk.tokenize import RegexpTokenizer\n",
    "from stop_words import get_stop_words\n",
    "from nltk.stem.porter import PorterStemmer\n",
    "from gensim import corpora, models\n",
    "import gensim"
   ]
  },
  {
   "cell_type": "code",
   "execution_count": 76,
   "metadata": {},
   "outputs": [],
   "source": [
    "tokenizer = RegexpTokenizer(r\"[\\w']+\")\n",
    "\n",
    "# create English stop words list\n",
    "en_stop = get_stop_words('en')\n",
    "\n",
    "# Create p_stemmer of class PorterStemmer\n",
    "p_stemmer = PorterStemmer()"
   ]
  },
  {
   "cell_type": "code",
   "execution_count": 49,
   "metadata": {},
   "outputs": [],
   "source": [
    "df_hr = df1[df1['reply_rate'] > 2]"
   ]
  },
  {
   "cell_type": "code",
   "execution_count": 50,
   "metadata": {},
   "outputs": [
    {
     "data": {
      "text/plain": [
       "(23, 4)"
      ]
     },
     "execution_count": 50,
     "metadata": {},
     "output_type": "execute_result"
    }
   ],
   "source": [
    "df_hr.shape"
   ]
  },
  {
   "cell_type": "code",
   "execution_count": 51,
   "metadata": {},
   "outputs": [
    {
     "data": {
      "text/html": [
       "<div>\n",
       "<style scoped>\n",
       "    .dataframe tbody tr th:only-of-type {\n",
       "        vertical-align: middle;\n",
       "    }\n",
       "\n",
       "    .dataframe tbody tr th {\n",
       "        vertical-align: top;\n",
       "    }\n",
       "\n",
       "    .dataframe thead th {\n",
       "        text-align: right;\n",
       "    }\n",
       "</style>\n",
       "<table border=\"1\" class=\"dataframe\">\n",
       "  <thead>\n",
       "    <tr style=\"text-align: right;\">\n",
       "      <th></th>\n",
       "      <th>discussion_post_id</th>\n",
       "      <th>discussion_post_content</th>\n",
       "      <th>reply_rate</th>\n",
       "      <th>cleaned_discussion_post</th>\n",
       "    </tr>\n",
       "  </thead>\n",
       "  <tbody>\n",
       "    <tr>\n",
       "      <th>81</th>\n",
       "      <td>3545388</td>\n",
       "      <td>&lt;p&gt;&lt;span&gt;PROMPT 4  You are invited to initiate...</td>\n",
       "      <td>5</td>\n",
       "      <td>PROMPT 4  You are invited to initiate your own...</td>\n",
       "    </tr>\n",
       "    <tr>\n",
       "      <th>162</th>\n",
       "      <td>3993887</td>\n",
       "      <td>&lt;p&gt;Maslow's hierarchy generally fits with my e...</td>\n",
       "      <td>3</td>\n",
       "      <td>Maslow's hierarchy generally fits with my expe...</td>\n",
       "    </tr>\n",
       "    <tr>\n",
       "      <th>276</th>\n",
       "      <td>3863600</td>\n",
       "      <td>&lt;p&gt;&lt;iframe style=\"width: 400px; height: 225px;...</td>\n",
       "      <td>4</td>\n",
       "      <td>;;</td>\n",
       "    </tr>\n",
       "    <tr>\n",
       "      <th>372</th>\n",
       "      <td>4232164</td>\n",
       "      <td>&lt;p&gt;Interestingly enough, social disputes can b...</td>\n",
       "      <td>3</td>\n",
       "      <td>Interestingly enough, social disputes can be s...</td>\n",
       "    </tr>\n",
       "    <tr>\n",
       "      <th>578</th>\n",
       "      <td>4041433</td>\n",
       "      <td>&lt;p&gt;When I think about social media platforms, ...</td>\n",
       "      <td>3</td>\n",
       "      <td>When I think about social media platforms, the...</td>\n",
       "    </tr>\n",
       "  </tbody>\n",
       "</table>\n",
       "</div>"
      ],
      "text/plain": [
       "     discussion_post_id                            discussion_post_content  \\\n",
       "81              3545388  <p><span>PROMPT 4  You are invited to initiate...   \n",
       "162             3993887  <p>Maslow's hierarchy generally fits with my e...   \n",
       "276             3863600  <p><iframe style=\"width: 400px; height: 225px;...   \n",
       "372             4232164  <p>Interestingly enough, social disputes can b...   \n",
       "578             4041433  <p>When I think about social media platforms, ...   \n",
       "\n",
       "     reply_rate                            cleaned_discussion_post  \n",
       "81            5  PROMPT 4  You are invited to initiate your own...  \n",
       "162           3  Maslow's hierarchy generally fits with my expe...  \n",
       "276           4                                                 ;;  \n",
       "372           3  Interestingly enough, social disputes can be s...  \n",
       "578           3  When I think about social media platforms, the...  "
      ]
     },
     "execution_count": 51,
     "metadata": {},
     "output_type": "execute_result"
    }
   ],
   "source": [
    "df_hr.head(5)"
   ]
  },
  {
   "cell_type": "code",
   "execution_count": 16,
   "metadata": {},
   "outputs": [
    {
     "name": "stdout",
     "output_type": "stream",
     "text": [
      "PROMPT 4  You are invited to initiate your own discussion by selecting a portion of an assigned text to comment on that wasn't addressed in the prompts above.  This discussion may include asking questions about what an author meant, disputing their conclusions, or explaining what their ideas mean to you on a personal level. Culture War/James Hunter/Page 225In his essay, James Hunter says that \"the mass media act act as a filter through which our perceptions of the world around us take shape\" (Hunter 225). He believes that the mass media has the power to change and reshape people' mind, perception and spiritual value. And as he claims in the following essay, those who own the mass media would also hold enormous power at the same time. In many cases, the groups hold the power of mass media are more conservative because they want to keep their value on the main stage instead of being taken place by something new. In that case, when there is a new culture value emerging, the conservatives always wield mass media to attack the new culture value in order to secure their own, which will cause the culture conflict and upgrade to culture war. From my point of view, however, not only does the mass media have the power to create culture war, it also have power everywhere. As we are entering into an era of information and internet, the power of mass media increases extremely. Because of its one-sidedness and its authority in normal citizens, it has the power to define right or wrong and make normal people believe without doubts. Thus, the mass media is closed to power more than ever, who owns the mass media will own the voice of the defining. It is vital to make sure the mass media is in right hands and used properly. \n",
      "\n",
      "Maslow's hierarchy generally fits with my experiences of motivation. However, I think the hierarchy portrays an extremely linear progression of motivation, with the ultimate end being spiritual enlightenment. This implies a strange argument where fulfilling all of one's motivations will necessarily achieve enlightenment, which is not always the case. For example, buying lots of cars and displaying wealth might fit into the motivation of esteem, in which the individual wishes to be recognized by their group as a rich and important person. However, fulfilling this motivation does not necessarily lead to enlightenment for them, but rather may cause harm in the form of encouraging narcissism and ignorance.;In general, Maslow's diagram helps to define what motivations can lead to a good life. I would like to see how other motivations, such as self sacrifice or volunteering work without recognition, might fit into his hierarchy. Essentially, how and where would motivations of virtue, as defined by Socrates and/or Aristotle, fit in the hierarchy?\n",
      "\n",
      ";;\n",
      "\n",
      "Interestingly enough, social disputes can be solved much the same way many other animals have evolved. We do see altruism in many animals (rats, crows) and cooperation (lions, fish) but not to the same extent as humans. And we also see animals that don't necessarily have that cooperation! Social dilemmas could've been solved by humans simply not being social; or just social to a lesser extent. We are very much pack animals and enjoy our extended community, but many animals, even mammals, tend to be loners (tigers, leopards) while still taking care of their family units, allowing them to move forwards.;I believe also that people could just form a very strict hierarchy. Instead of cooperation due to feelings, it's more an obligation or maybe even out of fear; it would not be the healthiest way to live for a human, but it would allow for a ruthlessly effective way of ending social dilemmas.;Maybe I am biased as a human, but I am glad we created ourselves to be this way.\n",
      "\n",
      "When I think about social media platforms, the ones that I use the most would be Discord. I would use this platform for schoolwork, but more commonly to meet and communicate with online friends when I play online games. Some affordances for this platform can be taken metaphorically such as the text/messaging section, adding \"reactions\" to text, and using the call button. Of course there are some constraints when I use discord. Unlike other platforms where you can simply add friends you know/make it private, in public servers (where I tend to meet people for a group game) especially when you are part of a public server, my account on this site is very anonymous because signing into discord requires little personal information like gender for example. Sign-in's and personalization on this site places the user in a position where they can't help but make these anonymous, creative usernames that have nothing to do with the real you due to how large these public servers are and how little personal things are being asked of you. From the article, it mentions that these site's \"naturalization of gender categories\" provides the users with more durability and flexibility as they do not want to make \"incorrect assumptions\"; the only area that this becomes a possible issue is if people of the community make it an issue. Since Discord doesn't ask or highlight these personal things, this may be related to why there are no ads on this site.;\n",
      "\n"
     ]
    }
   ],
   "source": [
    "for i in range(0, 5):\n",
    "    print(df_hr['cleaned_discussion_post'].iloc[i])\n",
    "    print()"
   ]
  },
  {
   "cell_type": "code",
   "execution_count": 52,
   "metadata": {},
   "outputs": [
    {
     "name": "stdout",
     "output_type": "stream",
     "text": [
      "23\n"
     ]
    }
   ],
   "source": [
    "# compile the cleaned_discussion_post column into a list\n",
    "doc_set = [str(x) for x in list(df_hr['cleaned_discussion_post'].values)]\n",
    "print(len(doc_set))"
   ]
  },
  {
   "cell_type": "code",
   "execution_count": 77,
   "metadata": {},
   "outputs": [],
   "source": [
    "# list for tokenized documents in loop\n",
    "texts = []"
   ]
  },
  {
   "cell_type": "code",
   "execution_count": 78,
   "metadata": {},
   "outputs": [],
   "source": [
    "# loop through document list\n",
    "for content in doc_set:\n",
    "    \n",
    "    # clean and tokenize document string\n",
    "    raw = content.lower()\n",
    "    tokens = tokens = tokenizer.tokenize(raw)\n",
    "\n",
    "    # remove stop words from tokens\n",
    "    stopped_tokens = [w for w in tokens if w not in en_stop]\n",
    "    \n",
    "    # stem tokens\n",
    "    stemmed_tokens = [p_stemmer.stem(i) for i in stopped_tokens]\n",
    "    \n",
    "    # add tokens to list\n",
    "    texts.append(stemmed_tokens)"
   ]
  },
  {
   "cell_type": "code",
   "execution_count": 79,
   "metadata": {},
   "outputs": [],
   "source": [
    "# turn our tokenized documents into a id <-> term dictionary\n",
    "dictionary = corpora.Dictionary(texts)\n",
    "    \n",
    "# convert tokenized documents into a document-term matrix\n",
    "corpus = [dictionary.doc2bow(text) for text in texts]"
   ]
  },
  {
   "cell_type": "code",
   "execution_count": 80,
   "metadata": {},
   "outputs": [],
   "source": [
    "# generate LDA model\n",
    "ldamodel = gensim.models.ldamodel.LdaModel(corpus, num_topics=5, id2word = dictionary, passes=1)"
   ]
  },
  {
   "cell_type": "code",
   "execution_count": 81,
   "metadata": {},
   "outputs": [
    {
     "name": "stdout",
     "output_type": "stream",
     "text": [
      "[(0, '0.007*\"movi\" + 0.006*\"class\" + 0.005*\"use\" + 0.005*\"year\"'), (1, '0.008*\"read\" + 0.008*\"time\" + 0.006*\"just\" + 0.006*\"women\"'), (2, '0.011*\"mass\" + 0.010*\"group\" + 0.009*\"power\" + 0.009*\"media\"'), (3, '0.012*\"group\" + 0.010*\"make\" + 0.007*\"person\" + 0.006*\"use\"'), (4, '0.011*\"senior\" + 0.010*\"http\" + 0.009*\"stress\" + 0.009*\"retriev\"')]\n"
     ]
    }
   ],
   "source": [
    "print(ldamodel.print_topics(num_topics=5, num_words=4))"
   ]
  },
  {
   "cell_type": "code",
   "execution_count": 82,
   "metadata": {},
   "outputs": [
    {
     "name": "stdout",
     "output_type": "stream",
     "text": [
      "['prompt', '4', 'invit', 'initi', 'discuss', 'select', 'portion', 'assign', 'text', 'comment', 'address', 'prompt', 'discuss', 'may', 'includ', 'ask', 'question', 'author', 'meant', 'disput', 'conclus', 'explain', 'idea', 'mean', 'person', 'level', 'cultur', 'war', 'jame', 'hunter', 'page', '225in', 'essay', 'jame', 'hunter', 'say', 'mass', 'media', 'act', 'act', 'filter', 'percept', 'world', 'around', 'us', 'take', 'shape', 'hunter', '225', 'believ', 'mass', 'media', 'power', 'chang', 'reshap', \"people'\", 'mind', 'percept', 'spiritu', 'valu', 'claim', 'follow', 'essay', 'mass', 'media', 'also', 'hold', 'enorm', 'power', 'time', 'mani', 'case', 'group', 'hold', 'power', 'mass', 'media', 'conserv', 'want', 'keep', 'valu', 'main', 'stage', 'instead', 'taken', 'place', 'someth', 'new', 'case', 'new', 'cultur', 'valu', 'emerg', 'conserv', 'alway', 'wield', 'mass', 'media', 'attack', 'new', 'cultur', 'valu', 'order', 'secur', 'will', 'caus', 'cultur', 'conflict', 'upgrad', 'cultur', 'war', 'point', 'view', 'howev', 'mass', 'media', 'power', 'creat', 'cultur', 'war', 'also', 'power', 'everywher', 'enter', 'era', 'inform', 'internet', 'power', 'mass', 'media', 'increas', 'extrem', 'one', 'sided', 'author', 'normal', 'citizen', 'power', 'defin', 'right', 'wrong', 'make', 'normal', 'peopl', 'believ', 'without', 'doubt', 'thu', 'mass', 'media', 'close', 'power', 'ever', 'own', 'mass', 'media', 'will', 'voic', 'defin', 'vital', 'make', 'sure', 'mass', 'media', 'right', 'hand', 'use', 'properli']\n",
      "\n",
      "[\"maslow'\", 'hierarchi', 'gener', 'fit', 'experi', 'motiv', 'howev', 'think', 'hierarchi', 'portray', 'extrem', 'linear', 'progress', 'motiv', 'ultim', 'end', 'spiritu', 'enlighten', 'impli', 'strang', 'argument', 'fulfil', \"one'\", 'motiv', 'will', 'necessarili', 'achiev', 'enlighten', 'alway', 'case', 'exampl', 'buy', 'lot', 'car', 'display', 'wealth', 'might', 'fit', 'motiv', 'esteem', 'individu', 'wish', 'recogn', 'group', 'rich', 'import', 'person', 'howev', 'fulfil', 'motiv', 'necessarili', 'lead', 'enlighten', 'rather', 'may', 'caus', 'harm', 'form', 'encourag', 'narciss', 'ignor', 'gener', \"maslow'\", 'diagram', 'help', 'defin', 'motiv', 'can', 'lead', 'good', 'life', 'like', 'see', 'motiv', 'self', 'sacrific', 'volunt', 'work', 'without', 'recognit', 'might', 'fit', 'hierarchi', 'essenti', 'motiv', 'virtu', 'defin', 'socrat', 'aristotl', 'fit', 'hierarchi']\n",
      "\n",
      "[]\n",
      "\n",
      "['interestingli', 'enough', 'social', 'disput', 'can', 'solv', 'much', 'way', 'mani', 'anim', 'evolv', 'see', 'altruism', 'mani', 'anim', 'rat', 'crow', 'cooper', 'lion', 'fish', 'extent', 'human', 'also', 'see', 'anim', 'necessarili', 'cooper', 'social', 'dilemma', \"could'v\", 'solv', 'human', 'simpli', 'social', 'just', 'social', 'lesser', 'extent', 'much', 'pack', 'anim', 'enjoy', 'extend', 'commun', 'mani', 'anim', 'even', 'mammal', 'tend', 'loner', 'tiger', 'leopard', 'still', 'take', 'care', 'famili', 'unit', 'allow', 'move', 'forward', 'believ', 'also', 'peopl', 'just', 'form', 'strict', 'hierarchi', 'instead', 'cooper', 'due', 'feel', 'oblig', 'mayb', 'even', 'fear', 'healthiest', 'way', 'live', 'human', 'allow', 'ruthlessli', 'effect', 'way', 'end', 'social', 'dilemma', 'mayb', 'bias', 'human', 'glad', 'creat', 'way']\n",
      "\n"
     ]
    }
   ],
   "source": [
    "for i in range(0, 4):\n",
    "    print(texts[i])\n",
    "    print()"
   ]
  },
  {
   "cell_type": "markdown",
   "metadata": {},
   "source": [
    "# Remove running query"
   ]
  },
  {
   "cell_type": "code",
   "execution_count": null,
   "metadata": {},
   "outputs": [],
   "source": [
    "redshift_s3_connect.view_running_sql_commands()"
   ]
  },
  {
   "cell_type": "code",
   "execution_count": null,
   "metadata": {},
   "outputs": [],
   "source": [
    "pid = 'pid'\n",
    "redshift_s3_connect.cancel_sql_command(pid)"
   ]
  }
 ],
 "metadata": {
  "instance_type": "ml.t3.medium",
  "kernelspec": {
   "display_name": "Python 3 (Data Science)",
   "language": "python",
   "name": "python3__SAGEMAKER_INTERNAL__arn:aws:sagemaker:us-west-2:236514542706:image/datascience-1.0"
  },
  "language_info": {
   "codemirror_mode": {
    "name": "ipython",
    "version": 3
   },
   "file_extension": ".py",
   "mimetype": "text/x-python",
   "name": "python",
   "nbconvert_exporter": "python",
   "pygments_lexer": "ipython3",
   "version": "3.7.10"
  }
 },
 "nbformat": 4,
 "nbformat_minor": 4
}
